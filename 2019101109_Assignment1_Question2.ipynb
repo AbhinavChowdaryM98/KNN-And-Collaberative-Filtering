{
  "cells": [
    {
      "cell_type": "markdown",
      "metadata": {
        "id": "866ed254"
      },
      "source": [
        "# Approximate Nearest Neighbors:\n",
        "\n",
        "# Image Recommendation System via Collaborative Filtering"
      ],
      "id": "866ed254"
    },
    {
      "cell_type": "markdown",
      "metadata": {
        "id": "2e08937a"
      },
      "source": [
        "# ***Please read the instructions very carefully***\n",
        "This is a modified version of the previous question and requires you to use an artificial nearest neighbors library\n",
        "\n",
        "We suggest you to use one of the following:\n",
        "- [ScaNN](https://github.com/google-research/google-research/tree/master/scann)\n",
        "- [FAISS](https://github.com/facebookresearch/faiss)\n",
        "- [Annoy](https://github.com/spotify/annoy.git)"
      ],
      "id": "2e08937a"
    },
    {
      "cell_type": "markdown",
      "metadata": {
        "id": "489a4212"
      },
      "source": [
        "1.   Assignment must be implemented in Python 3 only.\n",
        "2.   You are allowed to use libraries for data preprocessing (numpy, pandas, nltk etc) and for evaluation metrics, data visualization (matplotlib etc.).\n",
        "3.   You will be evaluated not just on the overall performance of the model and also on the experimentation with hyper parameters, data prepossessing techniques etc.\n",
        "4.   ⚠️ The Assignment will be evaluated automatically. Please adhere to taking proper inputs from `config.csv` file. You can change your `config.csv` file to experiment with your code. But at the end, make sure that your outputs are corresponding to input values in `config.csv`\n",
        "5.   Strict plagiarism checking will be done. An F will be awarded for plagiarism."
      ],
      "id": "489a4212"
    },
    {
      "cell_type": "markdown",
      "metadata": {
        "id": "f494560c"
      },
      "source": [
        "## About the Dataset\n",
        "Behance is a community art website where users showcase and discover creative work. Each user is able to “appreciate” (equivalent to a “like” on Instagram or a “react” on Facebook) an image, indicating that they like the image. It is in the website’s best interests to show users pictures that they would like, to keep them engaged for longer. For this question, given a set of pictures that a user has already appreciated, you have to show them a new picture that they would like based on what similar users appreciated.\n",
        "\n",
        "\n",
        "<br><br>\n",
        "**The dataset has information of 1 million appreciates of 63,497 users on 178,788 items. The file Behance appreciate 1M has a triplet in each line in the form of (user id, item id, unix timestamp).**"
      ],
      "id": "f494560c"
    },
    {
      "cell_type": "markdown",
      "metadata": {
        "id": "d8dd3f15"
      },
      "source": [
        "**Task: Take the inputs from the config.csv file and output the recommendations for a particular person**\n",
        "- Collaborative Filtering is a way to predict items to the user based on the the\n",
        "user’s history and the history of similar users. The similarity between users can be quantified by the number of images that both the users appreciated.\n",
        "- The images appreciated by a similar user would be the most suitable images to show a user. Since we can find the similarity between any two users, we would be able to find the “nearest” neighbours of any user, allowing us to use a KNN-based algorithm to recommend new images to a user.\n",
        "- Since people do not like seeing pictures that they have seen already. Make sure that you do not recommend pictures that a user has appreciated already.\n",
        "- Output the final response will be saved in the file named ```config['output_file']```.\n"
      ],
      "id": "d8dd3f15"
    },
    {
      "cell_type": "markdown",
      "metadata": {
        "id": "68a52fe5"
      },
      "source": [
        "**Output file format:**\n",
        "Populate the output file with images that the user has not seen of the k most\n",
        "similar users, in descending order of their similarity. Each line in the output\n",
        "file should be a duplet in the form of (item id, user id), where the user id is the\n",
        "id of the kth similar user. The order of the images corresponding to the same\n",
        "similar user would not matter. The output file would look something like this:\n",
        "```\n",
        "item_id_1_of_1st_similar_user 1st_most_similar_user_id\n",
        "item_id_2_of_1st_similar_user 1st_most_similar_user_id\n",
        "item_id_3_of_1st_similar_user 1st_most_similar_user_id\n",
        "...\n",
        "item_id_1_of_2nd_similar_user 2nd_most_similar_user_id\n",
        "item_id_2_of_2nd_similar_user 2nd_most_similar_user_id\n",
        "item_id_3_of_2nd_similar_user 2nd_most_similar_user_id\n",
        "...\n",
        "item_id_1_of_kth_similar_user kth_most_similar_user_id\n",
        "item_id_2_of_kth_similar_user kth_most_similar_user_id\n",
        "item_id_3_of_kth_similar_user kth_most_similar_user_id\n",
        "```"
      ],
      "id": "68a52fe5"
    },
    {
      "cell_type": "markdown",
      "metadata": {
        "id": "26d46fd2"
      },
      "source": [
        "You may use any other recommendation system that you wish to use. However,\n",
        "evaluation script will score your submission by measuring the similarity between\n",
        "users with the number of common images they appreciated.\n",
        "The dataset was extracted using Behance’s API as a part of the paper\n",
        "“Vista: A visually, socially, and temporally-aware model for artistic\n",
        "recommendation, RecSys, 2016”. Check out this [Google Drive folder](https://drive.google.com/drive/folders/0B9Ck8jw-TZUEc3NlMjVXdDlPU1k?resourcekey=0-6_8ykn0o4fLc5fuTEm91xA) for\n",
        "more information about the dataset.\n",
        "\n",
        "\n",
        "Have fun! The users are waiting to see new pictures!"
      ],
      "id": "26d46fd2"
    },
    {
      "cell_type": "markdown",
      "metadata": {
        "id": "912088cf"
      },
      "source": [
        "### Import necessary libraries"
      ],
      "id": "912088cf"
    },
    {
      "cell_type": "code",
      "execution_count": 1,
      "metadata": {
        "colab": {
          "base_uri": "https://localhost:8080/"
        },
        "id": "13e9cbe3",
        "outputId": "bca05a9f-38f4-4b77-de06-86da9b65f20b"
      },
      "outputs": [
        {
          "output_type": "stream",
          "name": "stdout",
          "text": [
            "Reading package lists... Done\n",
            "Building dependency tree       \n",
            "Reading state information... Done\n",
            "The following additional packages will be installed:\n",
            "  libomp5\n",
            "Suggested packages:\n",
            "  libomp-doc\n",
            "The following NEW packages will be installed:\n",
            "  libomp-dev libomp5\n",
            "0 upgraded, 2 newly installed, 0 to remove and 37 not upgraded.\n",
            "Need to get 239 kB of archives.\n",
            "After this operation, 804 kB of additional disk space will be used.\n",
            "Get:1 http://archive.ubuntu.com/ubuntu bionic/universe amd64 libomp5 amd64 5.0.1-1 [234 kB]\n",
            "Get:2 http://archive.ubuntu.com/ubuntu bionic/universe amd64 libomp-dev amd64 5.0.1-1 [5,088 B]\n",
            "Fetched 239 kB in 0s (2,410 kB/s)\n",
            "Selecting previously unselected package libomp5:amd64.\n",
            "(Reading database ... 155229 files and directories currently installed.)\n",
            "Preparing to unpack .../libomp5_5.0.1-1_amd64.deb ...\n",
            "Unpacking libomp5:amd64 (5.0.1-1) ...\n",
            "Selecting previously unselected package libomp-dev.\n",
            "Preparing to unpack .../libomp-dev_5.0.1-1_amd64.deb ...\n",
            "Unpacking libomp-dev (5.0.1-1) ...\n",
            "Setting up libomp5:amd64 (5.0.1-1) ...\n",
            "Setting up libomp-dev (5.0.1-1) ...\n",
            "Processing triggers for libc-bin (2.27-3ubuntu1.3) ...\n",
            "/sbin/ldconfig.real: /usr/local/lib/python3.7/dist-packages/ideep4py/lib/libmkldnn.so.0 is not a symbolic link\n",
            "\n",
            "Collecting faiss\n",
            "  Downloading faiss-1.5.3-cp37-cp37m-manylinux1_x86_64.whl (4.7 MB)\n",
            "\u001b[K     |████████████████████████████████| 4.7 MB 13.4 MB/s \n",
            "\u001b[?25hRequirement already satisfied: numpy in /usr/local/lib/python3.7/dist-packages (from faiss) (1.19.5)\n",
            "Installing collected packages: faiss\n",
            "Successfully installed faiss-1.5.3\n"
          ]
        }
      ],
      "source": [
        "import numpy as np\n",
        "import pandas as pd\n",
        "from scipy.sparse import csr_matrix\n",
        "from sklearn.decomposition import TruncatedSVD\n",
        "!apt install libomp-dev\n",
        "!pip install faiss\n",
        "import faiss"
      ],
      "id": "13e9cbe3"
    },
    {
      "cell_type": "code",
      "execution_count": null,
      "metadata": {
        "id": "0c9c4cd1"
      },
      "outputs": [],
      "source": [
        "# Config Generation Sample Code.\n",
        "# ⚠️ Only for experimentation on your side.\n",
        "# ⚠️ Should be commented during submission.\n",
        "\n",
        "# df = pd.DataFrame(data=[{'id':276633,\n",
        "#                   'k':5,\n",
        "#                   'dataset_file':'./Behance_appreciate_1M',\n",
        "#                   'output_file':'./output.txt'}])\n",
        "# df.to_csv('config.csv')"
      ],
      "id": "0c9c4cd1"
    },
    {
      "cell_type": "code",
      "execution_count": 2,
      "metadata": {
        "id": "cb6bc1ff"
      },
      "outputs": [],
      "source": [
        "config = pd.read_csv('config.csv').iloc[0]"
      ],
      "id": "cb6bc1ff"
    },
    {
      "cell_type": "code",
      "execution_count": 3,
      "metadata": {
        "colab": {
          "base_uri": "https://localhost:8080/"
        },
        "id": "ef721d6b",
        "outputId": "3b447f3b-c979-44b3-8344-fd3d0a3fe8ae"
      },
      "outputs": [
        {
          "output_type": "execute_result",
          "data": {
            "text/plain": [
              "Unnamed: 0                            0\n",
              "id                               276633\n",
              "k                                     5\n",
              "dataset_file    ./Behance_appreciate_1M\n",
              "output_file                ./output.txt\n",
              "Name: 0, dtype: object"
            ]
          },
          "metadata": {},
          "execution_count": 3
        }
      ],
      "source": [
        "config"
      ],
      "id": "ef721d6b"
    },
    {
      "cell_type": "code",
      "execution_count": 4,
      "metadata": {
        "id": "4966a889"
      },
      "outputs": [],
      "source": [
        "user = config['id']\n",
        "k_value = config['k']"
      ],
      "id": "4966a889"
    },
    {
      "cell_type": "markdown",
      "metadata": {
        "id": "e8e50dee"
      },
      "source": [
        "### Read the Data"
      ],
      "id": "e8e50dee"
    },
    {
      "cell_type": "code",
      "execution_count": 5,
      "metadata": {
        "id": "cd74173b"
      },
      "outputs": [],
      "source": [
        "with open(config['dataset_file'], 'r') as inFile:\n",
        "    appreciate_data = inFile.readlines()"
      ],
      "id": "cd74173b"
    },
    {
      "cell_type": "code",
      "execution_count": null,
      "metadata": {
        "id": "e8542cda"
      },
      "outputs": [],
      "source": [
        "# your code here"
      ],
      "id": "e8542cda"
    },
    {
      "cell_type": "markdown",
      "metadata": {
        "id": "e09e9961"
      },
      "source": [
        "### Initialize a dictionary to store the item_ids that a user likes\n",
        "\n",
        "### Go through each line of the input file and construct the user_likes dictionary"
      ],
      "id": "e09e9961"
    },
    {
      "cell_type": "code",
      "execution_count": 6,
      "metadata": {
        "id": "8ff4a80d"
      },
      "outputs": [],
      "source": [
        "user_likes = dict()"
      ],
      "id": "8ff4a80d"
    },
    {
      "cell_type": "code",
      "execution_count": 7,
      "metadata": {
        "id": "5b55dc0b"
      },
      "outputs": [],
      "source": [
        "for line in appreciate_data:\n",
        "    line = line.strip()\n",
        "    \n",
        "    user_id = int(line.split()[0])\n",
        "    item_id = int(line.split()[1])\n",
        "\n",
        "    if user_id not in user_likes:\n",
        "        user_likes[user_id] = list()\n",
        "    \n",
        "    user_likes[user_id].append(item_id)"
      ],
      "id": "5b55dc0b"
    },
    {
      "cell_type": "code",
      "execution_count": 8,
      "metadata": {
        "id": "9AHeMBZoo6me"
      },
      "outputs": [],
      "source": [
        "users = {}\n",
        "users_list = []\n",
        "j = 0\n",
        "for i in user_likes.keys():\n",
        "  users[i] = j\n",
        "  users_list.append(i)\n",
        "  j+=1"
      ],
      "id": "9AHeMBZoo6me"
    },
    {
      "cell_type": "markdown",
      "metadata": {
        "id": "cd017880"
      },
      "source": [
        "### Use your choice of Approximate Nearest Neigbor after Collaborative Filtering to find nearest neighbors"
      ],
      "id": "cd017880"
    },
    {
      "cell_type": "code",
      "execution_count": 12,
      "metadata": {
        "id": "5ee1d377"
      },
      "outputs": [],
      "source": [
        "# your code here\n",
        "row = []\n",
        "col = []\n",
        "data = []\n",
        "unique = []\n",
        "for i in user_likes.keys():\n",
        "  for j in user_likes[i]:\n",
        "    row.append(users[i])\n",
        "    col.append(j)\n",
        "    data.append(1)\n",
        "    unique.append(j)\n",
        "unique = list(set(unique))\n",
        "unique_dict = {}\n",
        "for i in range(len(unique)):\n",
        "  unique_dict[unique[i]] = i\n",
        "for i in range(len(col)):\n",
        "  col[i] = unique_dict[col[i]]\n",
        "c = csr_matrix((np.array(data), (np.array(row), np.array(col))), shape=(len(user_likes.keys()),len(col)))\n",
        "svd = TruncatedSVD(n_components=100, n_iter=5, random_state=10)\n",
        "svd.fit(c)\n",
        "a = svd.transform(c)\n",
        "a = a.astype('float32')"
      ],
      "id": "5ee1d377"
    },
    {
      "cell_type": "code",
      "source": [
        "len(a[users[user]])"
      ],
      "metadata": {
        "id": "9M8QyGsTPzAO",
        "colab": {
          "base_uri": "https://localhost:8080/"
        },
        "outputId": "20dbc14d-1494-48f4-82f3-44fc9c5c274b"
      },
      "id": "9M8QyGsTPzAO",
      "execution_count": 13,
      "outputs": [
        {
          "output_type": "execute_result",
          "data": {
            "text/plain": [
              "100"
            ]
          },
          "metadata": {},
          "execution_count": 13
        }
      ]
    },
    {
      "cell_type": "code",
      "source": [
        "def neighbors(user,k_value):\n",
        "    ind = faiss.IndexFlatL2(100)\n",
        "    ind.add(a)\n",
        "    x,y = ind.search(a[users[user]:users[user]+1], k_value+1)\n",
        "    return y[0][1:]"
      ],
      "metadata": {
        "id": "Vr-6zEP_zLBL"
      },
      "id": "Vr-6zEP_zLBL",
      "execution_count": 14,
      "outputs": []
    },
    {
      "cell_type": "markdown",
      "metadata": {
        "id": "0b6f24d6"
      },
      "source": [
        "### Answer the following questions:"
      ],
      "id": "0b6f24d6"
    },
    {
      "cell_type": "markdown",
      "metadata": {
        "id": "012f72f8"
      },
      "source": [
        "#### Q1. **Explain how your choice of library works**\n",
        "\n",
        "*I used Faiss, because the documentation was much better to understand than Scann. Faiss takes the whole matrix with all users and their likes(2D) at once. Which is actually much larger than my RAM. So, I used CSR_matrix to generate tha sparse natrix of the data we have(User Vs all unique Posts). Used TruncatedSVD to reduce the dimensionality o the matrix. Which made me to use the Faiss. Faiss is implemented by Facebook for efficient similarity search between multimedia documents. It is very efficient working with millons to even billions of datasets for similarity search ver efficiently.*"
      ],
      "id": "012f72f8"
    },
    {
      "cell_type": "markdown",
      "metadata": {
        "id": "3b0ac14b"
      },
      "source": [
        "#### Q2. **Compare your choice of library with vanilla KNN.**\n",
        "***Hint: Include Time Complexity, and explain the tradeoff with recall***\n",
        "\n",
        "*Fiass divides the train data to individual cells of data. When we check similarity between two data sets we check this cells to find the similarity scoree resulting in checking only these cells for query.\n",
        "For Vanilla KNN, Time Complexity: O(n)\n",
        "Whereas for Faiss, Time Complexity: O(n/no. of cells)*"
      ],
      "id": "3b0ac14b"
    },
    {
      "cell_type": "markdown",
      "metadata": {
        "id": "400d7827"
      },
      "source": [
        "#### Q3. **Compare your choice of library with implementation of ScaNN, faiss and annoy.**\n",
        "***Hint: Include Time Complexity, and explain the tradeoff with recall***\n",
        "\n",
        "*Annoy is much similar to Faiss with vector dimension with 1000, i.e while using truncated svd we replace n_components with 1000. Annoy has much less precision than faiss. Whereas faiss-gpu is much powerful than faiss-cpu (Uses gpu also to compute letting it perform much better and faster computations than the cpu version).*"
      ],
      "id": "400d7827"
    },
    {
      "cell_type": "markdown",
      "metadata": {
        "id": "142440b0"
      },
      "source": [
        "### Open the output file to write all the lines to the file"
      ],
      "id": "142440b0"
    },
    {
      "cell_type": "code",
      "execution_count": 15,
      "metadata": {
        "id": "977b08f9"
      },
      "outputs": [],
      "source": [
        "outFile = open(config['output_file'], 'w')\n",
        "\n",
        "for n_user in neighbors(user,int(k_value)):\n",
        "    user_id = users_list[n_user]\n",
        "    for item_id in user_likes[user_id]:\n",
        "        outFile.write(str(item_id) + ' ' + str(user_id) + '\\n')\n",
        "\n",
        "outFile.close()"
      ],
      "id": "977b08f9"
    }
  ],
  "metadata": {
    "colab": {
      "name": "2019101109_Assignment1_Question2.ipynb",
      "provenance": []
    },
    "kernelspec": {
      "display_name": "Python 3",
      "language": "python",
      "name": "python3"
    },
    "language_info": {
      "codemirror_mode": {
        "name": "ipython",
        "version": 3
      },
      "file_extension": ".py",
      "mimetype": "text/x-python",
      "name": "python",
      "nbconvert_exporter": "python",
      "pygments_lexer": "ipython3",
      "version": "3.8.10"
    }
  },
  "nbformat": 4,
  "nbformat_minor": 5
}