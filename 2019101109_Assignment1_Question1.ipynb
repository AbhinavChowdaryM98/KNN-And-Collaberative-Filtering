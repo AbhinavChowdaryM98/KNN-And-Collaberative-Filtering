{
  "cells": [
    {
      "cell_type": "markdown",
      "metadata": {
        "id": "7b7992a1"
      },
      "source": [
        "# Image Recommendation System via Collaborative Filtering"
      ],
      "id": "7b7992a1"
    },
    {
      "cell_type": "markdown",
      "metadata": {
        "id": "bdbd69cd"
      },
      "source": [
        "# ***Please read the instructions very carefully***"
      ],
      "id": "bdbd69cd"
    },
    {
      "cell_type": "markdown",
      "metadata": {
        "id": "17602772"
      },
      "source": [
        "1.   Assignment must be implemented in Python 3 only.\n",
        "2.   You are allowed to use libraries for data preprocessing (numpy, pandas, nltk etc) and for evaluation metrics, data visualization (matplotlib etc.).\n",
        "3.   You will be evaluated not just on the overall performance of the model and also on the experimentation with hyper parameters, data prepossessing techniques etc.\n",
        "4.   ⚠️ The Assignment will be evaluated automatically. Please adhere to taking proper inputs from `config.csv` file. You can change your `config.csv` file to experiment with your code. But at the end, make sure that your outputs are corresponding to input values in `config.csv`\n",
        "5.   Strict plagiarism checking will be done. An F will be awarded for plagiarism."
      ],
      "id": "17602772"
    },
    {
      "cell_type": "markdown",
      "metadata": {
        "id": "3c9abf04"
      },
      "source": [
        "## About the Dataset\n",
        "Behance is a community art website where users showcase and discover creative work. Each user is able to “appreciate” (equivalent to a “like” on Instagram or a “react” on Facebook) an image, indicating that they like the image. It is in the website’s best interests to show users pictures that they would like, to keep them engaged for longer. For this question, given a set of pictures that a user has already appreciated, you have to show them a new picture that they would like based on what similar users appreciated.\n",
        "\n",
        "\n",
        "<br><br>\n",
        "**The dataset has information of 1 million appreciates of 63,497 users on 178,788 items. The file Behance appreciate 1M has a triplet in each line in the form of (user id, item id, unix timestamp).**"
      ],
      "id": "3c9abf04"
    },
    {
      "cell_type": "markdown",
      "metadata": {
        "id": "11f6eaf3"
      },
      "source": [
        "**Task: Take the inputs from the config.csv file and output the recommendations for a particular person**\n",
        "- Collaborative Filtering is a way to predict items to the user based on the the\n",
        "user’s history and the history of similar users. The similarity between users can be quantified by the number of images that both the users appreciated.\n",
        "- The images appreciated by a similar user would be the most suitable images to show a user. Since we can find the similarity between any two users, we would be able to find the “nearest” neighbours of any user, allowing us to use a KNN-based algorithm to recommend new images to a user.\n",
        "- Since people do not like seeing pictures that they have seen already. Make sure that you do not recommend pictures that a user has appreciated already.\n",
        "- Output the final response will be saved in the file named ```config['output_file']```.\n"
      ],
      "id": "11f6eaf3"
    },
    {
      "cell_type": "markdown",
      "metadata": {
        "id": "1c9a5e4f"
      },
      "source": [
        "**Output file format:**\n",
        "Populate the output file with images that the user has not seen of the k most\n",
        "similar users, in descending order of their similarity. Each line in the output\n",
        "file should be a duplet in the form of (item id, user id), where the user id is the\n",
        "id of the kth similar user. The order of the images corresponding to the same\n",
        "similar user would not matter. The output file would look something like this:\n",
        "```\n",
        "item_id_1_of_1st_similar_user 1st_most_similar_user_id\n",
        "item_id_2_of_1st_similar_user 1st_most_similar_user_id\n",
        "item_id_3_of_1st_similar_user 1st_most_similar_user_id\n",
        "...\n",
        "item_id_1_of_2nd_similar_user 2nd_most_similar_user_id\n",
        "item_id_2_of_2nd_similar_user 2nd_most_similar_user_id\n",
        "item_id_3_of_2nd_similar_user 2nd_most_similar_user_id\n",
        "...\n",
        "item_id_1_of_kth_similar_user kth_most_similar_user_id\n",
        "item_id_2_of_kth_similar_user kth_most_similar_user_id\n",
        "item_id_3_of_kth_similar_user kth_most_similar_user_id\n",
        "```"
      ],
      "id": "1c9a5e4f"
    },
    {
      "cell_type": "markdown",
      "metadata": {
        "id": "c6d0c592"
      },
      "source": [
        "The dataset was extracted using Behance’s API as a part of the paper\n",
        "“Vista: A visually, socially, and temporally-aware model for artistic\n",
        "recommendation, RecSys, 2016”. Check out this [Google Drive folder](https://drive.google.com/drive/folders/0B9Ck8jw-TZUEc3NlMjVXdDlPU1k?resourcekey=0-6_8ykn0o4fLc5fuTEm91xA) for\n",
        "more information about the dataset.\n",
        "\n",
        "\n",
        "Have fun! The users are waiting to see new pictures!"
      ],
      "id": "c6d0c592"
    },
    {
      "cell_type": "markdown",
      "metadata": {
        "id": "87b8072a"
      },
      "source": [
        "### Import necessary libraries"
      ],
      "id": "87b8072a"
    },
    {
      "cell_type": "code",
      "execution_count": 1,
      "metadata": {
        "id": "f153853d"
      },
      "outputs": [],
      "source": [
        "import numpy as np\n",
        "import pandas as pd\n",
        "from scipy.sparse import csr_matrix\n",
        "from sklearn.decomposition import TruncatedSVD\n",
        "from scipy.spatial import distance"
      ],
      "id": "f153853d"
    },
    {
      "cell_type": "code",
      "execution_count": 2,
      "metadata": {
        "id": "41ac6337"
      },
      "outputs": [],
      "source": [
        "# Config Generation Sample Code.\n",
        "# ⚠️ Only for experimentation on your side.\n",
        "# ⚠️ Should be commented during submission.\n",
        "\n",
        "# df = pd.DataFrame(data=[{'id':276633,\n",
        "#                   'k':5,\n",
        "#                   'dataset_file':'./Behance_appreciate_1M',\n",
        "#                   'output_file':'./output.txt'}])\n",
        "# df.to_csv('config.csv')"
      ],
      "id": "41ac6337"
    },
    {
      "cell_type": "code",
      "execution_count": 3,
      "metadata": {
        "id": "7af3e999"
      },
      "outputs": [],
      "source": [
        "config = pd.read_csv('config.csv').iloc[0]"
      ],
      "id": "7af3e999"
    },
    {
      "cell_type": "code",
      "execution_count": 4,
      "metadata": {
        "colab": {
          "base_uri": "https://localhost:8080/"
        },
        "id": "829d0147",
        "outputId": "bb87a4f2-d451-46a7-f777-35acedb9fe8f"
      },
      "outputs": [
        {
          "output_type": "execute_result",
          "data": {
            "text/plain": [
              "Unnamed: 0                            0\n",
              "id                               276633\n",
              "k                                     5\n",
              "dataset_file    ./Behance_appreciate_1M\n",
              "output_file                ./output.txt\n",
              "Name: 0, dtype: object"
            ]
          },
          "metadata": {},
          "execution_count": 4
        }
      ],
      "source": [
        "config"
      ],
      "id": "829d0147"
    },
    {
      "cell_type": "code",
      "execution_count": 5,
      "metadata": {
        "id": "f4d09c27"
      },
      "outputs": [],
      "source": [
        "user = config['id']\n",
        "k_value = config['k']"
      ],
      "id": "f4d09c27"
    },
    {
      "cell_type": "markdown",
      "metadata": {
        "id": "10935090"
      },
      "source": [
        "### Read the Data"
      ],
      "id": "10935090"
    },
    {
      "cell_type": "code",
      "execution_count": 6,
      "metadata": {
        "id": "5bbba85a"
      },
      "outputs": [],
      "source": [
        "with open(config['dataset_file'], 'r') as inFile:\n",
        "    appreciate_data = inFile.readlines()"
      ],
      "id": "5bbba85a"
    },
    {
      "cell_type": "code",
      "execution_count": 7,
      "metadata": {
        "id": "c0266e01"
      },
      "outputs": [],
      "source": [
        "# your code here\n",
        "#print(user)"
      ],
      "id": "c0266e01"
    },
    {
      "cell_type": "markdown",
      "metadata": {
        "id": "99512e25"
      },
      "source": [
        "### Initialize a dictionary to store the item_ids that a user likes\n",
        "\n",
        "### Go through each line of the input file and construct the user_likes dictionary"
      ],
      "id": "99512e25"
    },
    {
      "cell_type": "code",
      "execution_count": 8,
      "metadata": {
        "id": "1d3d9be5"
      },
      "outputs": [],
      "source": [
        "user_likes = dict()"
      ],
      "id": "1d3d9be5"
    },
    {
      "cell_type": "code",
      "execution_count": 9,
      "metadata": {
        "id": "80a539f1"
      },
      "outputs": [],
      "source": [
        "for line in appreciate_data:\n",
        "    line = line.strip()\n",
        "    \n",
        "    user_id = int(line.split()[0])\n",
        "    item_id = int(line.split()[1])\n",
        "\n",
        "    if user_id not in user_likes:\n",
        "        user_likes[user_id] = list()\n",
        "    \n",
        "    user_likes[user_id].append(item_id)"
      ],
      "id": "80a539f1"
    },
    {
      "cell_type": "code",
      "execution_count": 10,
      "metadata": {
        "id": "lDCHoDRmp2fE"
      },
      "outputs": [],
      "source": [
        "users = {}\n",
        "users_list = []\n",
        "j = 0\n",
        "for i in user_likes.keys():\n",
        "  users[i] = j\n",
        "  users_list.append(i)\n",
        "  j+=1"
      ],
      "id": "lDCHoDRmp2fE"
    },
    {
      "cell_type": "code",
      "execution_count": 11,
      "metadata": {
        "id": "P1BabTXZqtxB"
      },
      "outputs": [],
      "source": [
        "def cosine(u,data, k):\n",
        "  sim = []\n",
        "  for i in range(len(data)):\n",
        "    if(i!=u):\n",
        "      sim.append((distance.cosine(data[u],data[i]), i))\n",
        "  sim.sort()\n",
        "  return sim[:k]"
      ],
      "id": "P1BabTXZqtxB"
    },
    {
      "cell_type": "markdown",
      "metadata": {
        "id": "9e199965"
      },
      "source": [
        "### Use KNN after Collaborative Filtering to find nearest neighbors"
      ],
      "id": "9e199965"
    },
    {
      "cell_type": "code",
      "execution_count": 14,
      "metadata": {
        "id": "2117df52"
      },
      "outputs": [],
      "source": [
        "# your code here\n",
        "# your code here\n",
        "#def sorting(e):\n",
        "#    return e[1]\n",
        "row = []\n",
        "col = []\n",
        "data = []\n",
        "unique = []\n",
        "for i in user_likes.keys():\n",
        "  for j in user_likes[i]:\n",
        "    row.append(users[i])\n",
        "    col.append(j)\n",
        "    data.append(1)\n",
        "    unique.append(j)\n",
        "unique = list(set(unique))\n",
        "unique_dict = {}\n",
        "for i in range(len(unique)):\n",
        "  unique_dict[unique[i]] = i\n",
        "for i in range(len(col)):\n",
        "  col[i] = unique_dict[col[i]]\n",
        "c = csr_matrix((np.array(data), (np.array(row), np.array(col))), shape=(len(user_likes.keys()),len(col)))\n",
        "svd = TruncatedSVD(n_components=100, n_iter=5, random_state=10)\n",
        "svd.fit(c)\n",
        "a = svd.transform(c)\n",
        "#a = a.astype('float32')\n",
        "\n",
        "def neighbors(user,k_value):\n",
        "    \"\"\" returns an iterable object (like list or generator) \"\"\"\n",
        "    '''tmp = set(user_likes[user])\n",
        "    ans = []\n",
        "    for i in user_likes.keys():\n",
        "        tmp2 = set(user_likes[i])\n",
        "        length = len(tmp.intersection(tmp2))\n",
        "        dis_length = ((len(tmp2)+len(tmp))**2 - (length)**2)/(len(tmp2)+len(tmp))**2\n",
        "        ans.append((i,dis_length))\n",
        "    ans.sort(key=sorting)\n",
        "    result = []\n",
        "    for i in range(1,6):\n",
        "        result.append(ans[-i][0])\n",
        "    print(result)\n",
        "    return result'''\n",
        "    u = users[user]\n",
        "    near = cosine(u,a,k_value)\n",
        "    return near"
      ],
      "id": "2117df52"
    },
    {
      "cell_type": "markdown",
      "metadata": {
        "id": "892c395b"
      },
      "source": [
        "### Open the output file to write all the lines to the file"
      ],
      "id": "892c395b"
    },
    {
      "cell_type": "code",
      "execution_count": 16,
      "metadata": {
        "id": "428708d5"
      },
      "outputs": [],
      "source": [
        "outFile = open(config['output_file'], 'w')\n",
        "\n",
        "for n_user in neighbors(user,k_value):\n",
        "    user_id = users_list[n_user[1]]\n",
        "    for item_id in user_likes[user_id]:\n",
        "        outFile.write(str(item_id) + ' ' + str(user_id) + '\\n')\n",
        "\n",
        "outFile.close()"
      ],
      "id": "428708d5"
    }
  ],
  "metadata": {
    "colab": {
      "name": "2019101109_Assignment1_Question1.ipynb",
      "provenance": []
    },
    "kernelspec": {
      "display_name": "Python 3",
      "language": "python",
      "name": "python3"
    },
    "language_info": {
      "codemirror_mode": {
        "name": "ipython",
        "version": 3
      },
      "file_extension": ".py",
      "mimetype": "text/x-python",
      "name": "python",
      "nbconvert_exporter": "python",
      "pygments_lexer": "ipython3",
      "version": "3.8.10"
    }
  },
  "nbformat": 4,
  "nbformat_minor": 5
}