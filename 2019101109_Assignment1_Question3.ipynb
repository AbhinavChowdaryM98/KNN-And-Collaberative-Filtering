{
  "cells": [
    {
      "cell_type": "markdown",
      "id": "02c54141",
      "metadata": {
        "id": "02c54141"
      },
      "source": [
        "## Spam Email Classifier with KNN using TF-IDF scores"
      ]
    },
    {
      "cell_type": "markdown",
      "id": "1c17102e",
      "metadata": {
        "id": "1c17102e"
      },
      "source": [
        "1.   Assignment must be implemented in Python 3 only.\n",
        "2.   You are allowed to use libraries for data preprocessing (numpy, pandas, nltk etc) and for evaluation metrics, data visualization (matplotlib etc.).\n",
        "3.   You will be evaluated not just on the overall performance of the model and also on the experimentation with hyper parameters, data prepossessing techniques etc.\n",
        "4.   The report file must be a well documented jupyter notebook, explaining the experiments you have performed, evaluation metrics and corresponding code. The code must run and be able to reproduce the accuracies, figures/graphs etc.\n",
        "5.   For all the questions, you must create a train-validation data split and test the hyperparameter tuning on the validation set. Your jupyter notebook must reflect the same.\n",
        "6.   Strict plagiarism checking will be done. An F will be awarded for plagiarism."
      ]
    },
    {
      "cell_type": "markdown",
      "id": "0d34a310",
      "metadata": {
        "id": "0d34a310"
      },
      "source": [
        "**Task: Given an email, classify it as spam or ham**\n",
        "\n",
        "Given input text file (\"emails.txt\") containing 5572 email messages, with each row having its corresponding label (spam/ham) attached to it.\n",
        "\n",
        "This task also requires basic pre-processing of text (like removing stopwords, stemming/lemmatizing, replacing email_address with 'email-tag', etc..).\n",
        "\n",
        "You are required to find the tf-idf scores for the given data and use them to perform KNN using Cosine Similarity."
      ]
    },
    {
      "cell_type": "markdown",
      "id": "b0c87696",
      "metadata": {
        "id": "b0c87696"
      },
      "source": [
        "### Import necessary libraries"
      ]
    },
    {
      "cell_type": "code",
      "execution_count": 1,
      "id": "3d5a1fe2",
      "metadata": {
        "colab": {
          "base_uri": "https://localhost:8080/"
        },
        "id": "3d5a1fe2",
        "outputId": "66201170-5b92-4cab-973e-53e07203d795"
      },
      "outputs": [
        {
          "output_type": "stream",
          "name": "stdout",
          "text": [
            "[nltk_data] Downloading package wordnet to /root/nltk_data...\n",
            "[nltk_data]   Unzipping corpora/wordnet.zip.\n",
            "[nltk_data] Downloading package omw-1.4 to /root/nltk_data...\n",
            "[nltk_data]   Unzipping corpora/omw-1.4.zip.\n",
            "[nltk_data] Downloading package stopwords to /root/nltk_data...\n",
            "[nltk_data]   Unzipping corpora/stopwords.zip.\n",
            "[nltk_data] Downloading package punkt to /root/nltk_data...\n",
            "[nltk_data]   Unzipping tokenizers/punkt.zip.\n"
          ]
        },
        {
          "output_type": "execute_result",
          "data": {
            "text/plain": [
              "True"
            ]
          },
          "metadata": {},
          "execution_count": 1
        }
      ],
      "source": [
        "import math\n",
        "import matplotlib.pyplot as plt\n",
        "from sklearn.model_selection import train_test_split\n",
        "from nltk.corpus import stopwords\n",
        "from nltk.tokenize import word_tokenize\n",
        "from nltk.stem import WordNetLemmatizer\n",
        "import nltk\n",
        "import numpy as np\n",
        "nltk.download('wordnet')\n",
        "nltk.download('omw-1.4')\n",
        "nltk.download('stopwords')\n",
        "nltk.download('punkt')"
      ]
    },
    {
      "cell_type": "markdown",
      "id": "7aef4dff",
      "metadata": {
        "id": "7aef4dff"
      },
      "source": [
        "### Load dataset"
      ]
    },
    {
      "cell_type": "code",
      "execution_count": 2,
      "id": "f178f892",
      "metadata": {
        "id": "f178f892"
      },
      "outputs": [],
      "source": [
        "file = open(\"./emails.txt\")\n",
        "tmp = file.readlines()\n",
        "lemmatizer = WordNetLemmatizer()\n",
        "#print(tmp[0])"
      ]
    },
    {
      "cell_type": "markdown",
      "id": "cd1ef5ba",
      "metadata": {
        "id": "cd1ef5ba"
      },
      "source": [
        "### Preprocess data"
      ]
    },
    {
      "cell_type": "code",
      "execution_count": 3,
      "id": "fd1733d7",
      "metadata": {
        "id": "fd1733d7"
      },
      "outputs": [],
      "source": [
        "dictionary = {'ham': [], 'spam': []}\n",
        "for i in tmp:\n",
        "    i = i.split(\"\\t\")\n",
        "    dictionary[i[0]].append(i[1][:-1])\n",
        "stop_words = set(stopwords.words('english'))\n",
        "data_all_mails = []\n",
        "data_classification = ['ham' for i in range(len(dictionary['ham']))]\n",
        "for i in dictionary['ham']:\n",
        "    data_all_mails.append(i)\n",
        "for i in dictionary['spam']:\n",
        "    data_all_mails.append(i)\n",
        "    data_classification.append('spam')\n",
        "x_train, x_test, y_train, y_test = train_test_split(data_all_mails, data_classification, test_size=0.5, random_state=1)"
      ]
    },
    {
      "cell_type": "markdown",
      "id": "f76767a7",
      "metadata": {
        "id": "f76767a7"
      },
      "source": [
        "### TF-IDF"
      ]
    },
    {
      "cell_type": "code",
      "execution_count": 4,
      "id": "f75e6cd2",
      "metadata": {
        "id": "f75e6cd2"
      },
      "outputs": [],
      "source": [
        "#TF\n",
        "data_train = []\n",
        "data_test = []\n",
        "train_tf = []\n",
        "test_tf = []\n",
        "All_words = []\n",
        "for i in range(len(x_train)):\n",
        "    temp2 = word_tokenize(x_train[i])\n",
        "    temp = []\n",
        "    for i in temp2:\n",
        "        if i not in stop_words:\n",
        "            temp.append(lemmatizer.lemmatize(i))\n",
        "    data_train.append(temp)\n",
        "    temp_tf = set(temp)\n",
        "    tf = {}\n",
        "    for j in temp_tf:\n",
        "        tf[j] = int(temp.count(j))\n",
        "        tf[j] = tf[j]/len(temp)\n",
        "        All_words.append(j)\n",
        "    train_tf.append(tf)\n",
        "for i in range(len(x_test)):\n",
        "    temp2 = word_tokenize(x_test[i])\n",
        "    temp = []\n",
        "    for i in temp2:\n",
        "        if i not in stop_words:\n",
        "            temp.append(lemmatizer.lemmatize(i))\n",
        "    data_test.append(temp)\n",
        "    temp_tf = set(temp)\n",
        "    tf = {}\n",
        "    for j in temp_tf:\n",
        "        tf[j] = int(temp.count(j))\n",
        "        tf[j] = tf[j]/len(temp)\n",
        "        All_words.append(j)\n",
        "    test_tf.append(tf)\n",
        "\n",
        "All_words = list(set(All_words))\n",
        "#print(ham_tf[0])\n",
        "\n",
        "#IDF\n",
        "IDF = {}\n",
        "for j in All_words:\n",
        "    tmp_idf = 0\n",
        "    for i in train_tf:\n",
        "        if(j in i.keys()):\n",
        "            tmp_idf+=1\n",
        "    for i in test_tf:\n",
        "        if(j in i.keys()):\n",
        "            tmp_idf+=1\n",
        "    IDF[j] = len(train_tf)+len(test_tf)\n",
        "    IDF[j] = math.log2(IDF[j]/tmp_idf)"
      ]
    },
    {
      "cell_type": "markdown",
      "id": "0f-6INBwLuyZ",
      "metadata": {
        "id": "0f-6INBwLuyZ"
      },
      "source": [
        "### F-Score Dictionary for Plotting"
      ]
    },
    {
      "cell_type": "code",
      "execution_count": 5,
      "id": "zxKMfJYVLtFc",
      "metadata": {
        "id": "zxKMfJYVLtFc"
      },
      "outputs": [],
      "source": [
        "Fscore = {'Euclidean': [0 for i in range(30)], 'Manhattan': [0 for i in range(30)], 'Cosine': [0 for i in range(30)]}"
      ]
    },
    {
      "cell_type": "markdown",
      "id": "oUTINs08OZm6",
      "metadata": {
        "id": "oUTINs08OZm6"
      },
      "source": [
        "### F Score Function"
      ]
    },
    {
      "cell_type": "code",
      "execution_count": 6,
      "id": "MqCHF3lfOX5z",
      "metadata": {
        "id": "MqCHF3lfOX5z"
      },
      "outputs": [],
      "source": [
        "def fscore_cal(k, distance,f):\n",
        "  temp = []\n",
        "  total = len(x_test)\n",
        "  for i in range(len(x_test)):\n",
        "    tmp = []\n",
        "    for j in range(len(x_train)):\n",
        "      tmp.append((distance[i][j], j))\n",
        "    tmp.sort(reverse=f)\n",
        "    h = 0\n",
        "    s = 0\n",
        "    for j in range(k):\n",
        "      if y_train[tmp[j][1]][0] == 'h':\n",
        "        h+=1\n",
        "      else:\n",
        "        s+=1\n",
        "    if (h > s):\n",
        "      if('h' == y_test[i][0]):\n",
        "        temp.append('fn')\n",
        "      else:\n",
        "        temp.append('tn')\n",
        "    elif s > h:\n",
        "      if('s' == y_test[i][0]):\n",
        "        temp.append('tp')\n",
        "      else:\n",
        "        temp.append('fp')\n",
        "    else:\n",
        "      if(y_train[tmp[0][1]][0] == 'h'):\n",
        "        if('h' == y_test[i][0]):\n",
        "          temp.append('fn')\n",
        "        else:\n",
        "          temp.append('tn')\n",
        "      else:\n",
        "        if('s' == y_test[i][0]):\n",
        "          temp.append('tp')\n",
        "        else:\n",
        "          temp.append('fp')\n",
        "  return temp"
      ]
    },
    {
      "cell_type": "markdown",
      "id": "ee6eb76b",
      "metadata": {
        "id": "ee6eb76b"
      },
      "source": [
        "### Train your KNN model (reuse previously iplemented model built from scratch) and test on your data"
      ]
    },
    {
      "cell_type": "markdown",
      "id": "22baf6b2",
      "metadata": {
        "id": "22baf6b2"
      },
      "source": [
        "***1. Experiment with different distance measures [Euclidean distance, Manhattan distance, Hamming Distance] and compare with the Cosine Similarity distance results.***"
      ]
    },
    {
      "cell_type": "code",
      "execution_count": 7,
      "id": "68f1bb23",
      "metadata": {
        "id": "68f1bb23"
      },
      "outputs": [],
      "source": [
        "#Euclidean Distance\n",
        "euclidean_distance = [[0 for i in range(len(x_train))] for j in range(len(x_test))]\n",
        "for i in range(len(data_test)):\n",
        "    t1 = set(data_test[i])\n",
        "    for j in range(len(data_train)):\n",
        "        t2 = set(data_train[j])\n",
        "        same = t1.intersection(t2)\n",
        "        dist = 0\n",
        "        for k in same:\n",
        "            dist += ((test_tf[i][k]-train_tf[j][k])*IDF[k])**2\n",
        "        for k in t1:\n",
        "            if k not in same:\n",
        "                dist += (test_tf[i][k]*IDF[k])**2\n",
        "        for k in t2:\n",
        "            if k not in same:\n",
        "                dist += (train_tf[j][k]*IDF[k])**2\n",
        "        euclidean_distance[i][j] = math.sqrt(dist)"
      ]
    },
    {
      "cell_type": "code",
      "execution_count": 8,
      "id": "7a17e887",
      "metadata": {
        "id": "7a17e887"
      },
      "outputs": [],
      "source": [
        "#F-Score\n",
        "#k = 1\n",
        "for k in range(1,31):\n",
        "  temp = fscore_cal(k, euclidean_distance,False)\n",
        "  #acc = ((temp.count('tp')+temp.count('fn'))/(temp.count('tp')+temp.count('tn')+temp.count('fp')+temp.count('fn')))\n",
        "  #print(\"Accuracy:\",acc)\n",
        "  pre = (temp.count('tp')/(temp.count('tp')+temp.count('tn')))\n",
        "  #print(\"Precision:\", pre)\n",
        "  re = (temp.count('tp')/(temp.count('tp')+temp.count('fp')))\n",
        "  #print(\"F-Score\", 2*re*pre/(re+pre))\n",
        "  f_score = 2*re*pre/(re+pre)\n",
        "  Fscore['Euclidean'][k-1] = f_score"
      ]
    },
    {
      "cell_type": "code",
      "execution_count": 9,
      "id": "6EHQsRK5I41M",
      "metadata": {
        "id": "6EHQsRK5I41M"
      },
      "outputs": [],
      "source": [
        "#Manhattan\n",
        "manhattan_distance = [[0 for i in range(len(x_train))] for j in range(len(x_test))]\n",
        "for i in range(len(data_test)):\n",
        "    t1 = set(data_test[i])\n",
        "    for j in range(len(data_train)):\n",
        "        t2 = set(data_train[j])\n",
        "        same = t1.intersection(t2)\n",
        "        dist = 0\n",
        "        for k in same:\n",
        "            dist += (abs(test_tf[i][k]-train_tf[j][k])*IDF[k])\n",
        "        for k in t1:\n",
        "            if k not in same:\n",
        "                dist += (test_tf[i][k]*IDF[k])\n",
        "        for k in t2:\n",
        "            if k not in same:\n",
        "                dist += (train_tf[j][k]*IDF[k])\n",
        "        manhattan_distance[i][j] = dist"
      ]
    },
    {
      "cell_type": "code",
      "execution_count": 10,
      "id": "yNcPiJX4Sv--",
      "metadata": {
        "id": "yNcPiJX4Sv--"
      },
      "outputs": [],
      "source": [
        "#F-Score\n",
        "#k = 1\n",
        "for k in range(1,31):\n",
        "  temp = fscore_cal(k, manhattan_distance,False)\n",
        "  #acc = ((temp.count('tp')+temp.count('fn'))/(temp.count('tp')+temp.count('tn')+temp.count('fp')+temp.count('fn')))\n",
        "  #print(\"Accuracy:\",acc)\n",
        "  pre = (temp.count('tp')/(temp.count('tp')+temp.count('tn')))\n",
        "  #print(\"Precision:\", pre)\n",
        "  re = (temp.count('tp')/(temp.count('tp')+temp.count('fp')))\n",
        "  #print(\"F-Score\", 2*re*pre/(re+pre))\n",
        "  f_score = 2*re*pre/(re+pre)\n",
        "  Fscore['Manhattan'][k-1] = f_score"
      ]
    },
    {
      "cell_type": "markdown",
      "id": "kbQbycH1JHOX",
      "metadata": {
        "id": "kbQbycH1JHOX"
      },
      "source": [
        "### Cosine Distance"
      ]
    },
    {
      "cell_type": "code",
      "execution_count": 19,
      "id": "jBdxueV-I-tn",
      "metadata": {
        "id": "jBdxueV-I-tn"
      },
      "outputs": [],
      "source": [
        "#Cosine\n",
        "cosine_distance = [[0 for i in range(len(x_train))] for j in range(len(x_test))]\n",
        "norm_b = []\n",
        "for j in range(len(data_train)):\n",
        "  norm2 = 0.0\n",
        "  t2 = set(data_train[j])\n",
        "  for a in t2:\n",
        "    norm2+=(train_tf[j][a]*IDF[a])**2\n",
        "  norm2 = math.sqrt(norm2)\n",
        "  norm_b.append(norm2)\n",
        "for i in range(len(data_test)):\n",
        "    t1 = set(data_test[i])\n",
        "    norm1 = 0.0\n",
        "    for a in t1:\n",
        "      norm1+=(test_tf[i][a]*IDF[a])**2\n",
        "    norm1 = math.sqrt(norm1)\n",
        "    for j in range(len(data_train)):\n",
        "        t2 = set(data_train[j])\n",
        "        norm2 = norm_b[j]\n",
        "        same = t1.intersection(t2)\n",
        "        dist = 0\n",
        "        for k in same:\n",
        "            dist += ((test_tf[i][k]*train_tf[j][k])*(IDF[k]**2))*(test_tf[i][k]*train_tf[j][k]*len(test_tf[i])*len(train_tf[j]))\n",
        "        cosine_distance[i][j] = dist/(norm1*norm2)"
      ]
    },
    {
      "cell_type": "code",
      "execution_count": 20,
      "id": "myTYvcKsJEgp",
      "metadata": {
        "id": "myTYvcKsJEgp"
      },
      "outputs": [],
      "source": [
        "#F-Score\n",
        "#k = 1\n",
        "for k in range(1,31):\n",
        "  temp = fscore_cal(k, cosine_distance,True)\n",
        "  #acc = ((temp.count('tp')+temp.count('fn'))/(temp.count('tp')+temp.count('tn')+temp.count('fp')+temp.count('fn')))\n",
        "  #print(\"Accuracy:\",acc)\n",
        "  pre = (temp.count('tp')/(temp.count('tp')+temp.count('tn')))\n",
        "  #print(\"Precision:\", pre)\n",
        "  #print(temp.count('tp'), temp.count('fp'),temp.count('tn'),temp.count('fn'),total)\n",
        "  re = (temp.count('tp')/(temp.count('tp')+temp.count('fp')))\n",
        "  #print(\"F-Score\", 2*re*pre/(re+pre))\n",
        "  Fscore['Cosine'][k-1] = 2*re*pre/(re+pre)"
      ]
    },
    {
      "cell_type": "markdown",
      "id": "bcf6f3b1",
      "metadata": {
        "id": "bcf6f3b1"
      },
      "source": [
        "***2. Explain which distance measure works best and why? Explore the distance measures and weigh their pro and cons in different application settings.***"
      ]
    },
    {
      "cell_type": "markdown",
      "id": "bae57a01",
      "metadata": {
        "id": "bae57a01"
      },
      "source": [
        "Cosine works best with,best F-score."
      ]
    },
    {
      "cell_type": "markdown",
      "id": "45a99c76",
      "metadata": {
        "id": "45a99c76"
      },
      "source": [
        "***3. Report Mean Squared Error(MSE), Mean-Absolute-Error(MAE), R-squared (R2) score in a tabular form***"
      ]
    },
    {
      "cell_type": "code",
      "execution_count": null,
      "id": "e9668814",
      "metadata": {
        "id": "e9668814"
      },
      "outputs": [],
      "source": [
        ""
      ]
    },
    {
      "cell_type": "markdown",
      "id": "d4dde8d3",
      "metadata": {
        "id": "d4dde8d3"
      },
      "source": [
        "***4. Choose different K values (k=1,3,5,7,11,17,23,28) and experiment. Plot a graph showing R2 score vs k.***"
      ]
    },
    {
      "cell_type": "code",
      "execution_count": 21,
      "id": "45e0fd2f",
      "metadata": {
        "id": "45e0fd2f",
        "colab": {
          "base_uri": "https://localhost:8080/",
          "height": 265
        },
        "outputId": "4767b3b5-4e98-4c3a-e6ac-d0fd5f8ee30a"
      },
      "outputs": [
        {
          "output_type": "display_data",
          "data": {
            "text/plain": [
              "<Figure size 432x288 with 1 Axes>"
            ],
            "image/png": "[encoded data removed]"
          },
          "metadata": {
            "needs_background": "light"
          }
        }
      ],
      "source": [
        "x = [i for i in range(1,31)]\n",
        "y_euclidean = Fscore['Euclidean']\n",
        "y_manhattan = Fscore['Manhattan']\n",
        "y_cosine = Fscore['Cosine']\n",
        "plt.plot(x,y_euclidean, label='Euclidean')\n",
        "plt.plot(x,y_manhattan,label='Manhattan')\n",
        "plt.plot(x,y_cosine,label='Cosine')\n",
        "plt.show()"
      ]
    },
    {
      "cell_type": "code",
      "source": [
        "plt.plot(x,y_cosine,label='Cosine')\n",
        "plt.show()"
      ],
      "metadata": {
        "colab": {
          "base_uri": "https://localhost:8080/",
          "height": 265
        },
        "id": "M4GbVpvyHpMQ",
        "outputId": "2c8bf5d8-b33b-4aca-c22a-7b85ff17f24f"
      },
      "id": "M4GbVpvyHpMQ",
      "execution_count": 27,
      "outputs": [
        {
          "output_type": "display_data",
          "data": {
            "text/plain": [
              "<Figure size 432x288 with 1 Axes>"
            ],
            "image/png": "[encoded data removed]"
          },
          "metadata": {
            "needs_background": "light"
          }
        }
      ]
    },
    {
      "cell_type": "code",
      "source": [
        "plt.plot(x,y_euclidean, label='Euclidean')\n",
        "plt.show()"
      ],
      "metadata": {
        "colab": {
          "base_uri": "https://localhost:8080/",
          "height": 265
        },
        "id": "3e8uMdyrHwbi",
        "outputId": "811b6487-aa6f-490c-f976-1faa9b77b251"
      },
      "id": "3e8uMdyrHwbi",
      "execution_count": 28,
      "outputs": [
        {
          "output_type": "display_data",
          "data": {
            "text/plain": [
              "<Figure size 432x288 with 1 Axes>"
            ],
            "image/png": "[encoded data removed]"
          },
          "metadata": {
            "needs_background": "light"
          }
        }
      ]
    },
    {
      "cell_type": "code",
      "source": [
        "plt.plot(x,y_manhattan,label='Manhattan')\n",
        "plt.show()"
      ],
      "metadata": {
        "colab": {
          "base_uri": "https://localhost:8080/",
          "height": 265
        },
        "id": "jkTmbwQmHzbD",
        "outputId": "202677fe-e99f-47ad-ffb3-3adca782847f"
      },
      "id": "jkTmbwQmHzbD",
      "execution_count": 29,
      "outputs": [
        {
          "output_type": "display_data",
          "data": {
            "text/plain": [
              "<Figure size 432x288 with 1 Axes>"
            ],
            "image/png": "[encoded data removed]"
          },
          "metadata": {
            "needs_background": "light"
          }
        }
      ]
    },
    {
      "cell_type": "markdown",
      "id": "15000352",
      "metadata": {
        "id": "15000352"
      },
      "source": [
        "### Train and test Sklearn's KNN classifier model on your data (use metric which gave best results on your experimentation with built-from-scratch model.)"
      ]
    },
    {
      "cell_type": "code",
      "execution_count": 22,
      "id": "2HrG3v0s03al",
      "metadata": {
        "id": "2HrG3v0s03al"
      },
      "outputs": [],
      "source": [
        "data_training = []\n",
        "for i in range(len(data_train)):\n",
        "  v = [0 for a in range(len(All_words))]\n",
        "  for j in range(len(All_words)):\n",
        "    if(All_words[j] in data_train[i]):\n",
        "      v[j]=((train_tf[i][All_words[j]]*len(train_tf[i]))/len(All_words))\n",
        "  data_training.append(v)\n",
        "data_testing = []\n",
        "for i in range(len(data_test)):\n",
        "  v = [0 for a in range(len(All_words))]\n",
        "  for j in range(len(All_words)):\n",
        "    if(All_words[j] in data_test[i]):\n",
        "      v[j]=((test_tf[i][All_words[j]]*len(test_tf[i]))/len(All_words))\n",
        "  data_testing.append(v)"
      ]
    },
    {
      "cell_type": "markdown",
      "id": "AW9hlrIkneiQ",
      "metadata": {
        "id": "AW9hlrIkneiQ"
      },
      "source": [
        ""
      ]
    },
    {
      "cell_type": "code",
      "execution_count": null,
      "id": "JzrRrJ9PnfA2",
      "metadata": {
        "id": "JzrRrJ9PnfA2"
      },
      "outputs": [],
      "source": [
        "#np.array(data_training[0]).shape"
      ]
    },
    {
      "cell_type": "code",
      "execution_count": 23,
      "id": "48aab7d3",
      "metadata": {
        "id": "48aab7d3"
      },
      "outputs": [],
      "source": [
        "from sklearn.neighbors import KNeighborsClassifier\n",
        "score = []\n",
        "for k in range(1,31):\n",
        "  fn = 0\n",
        "  fp = 0\n",
        "  tp = 0\n",
        "  tn = 0\n",
        "  neigh = KNeighborsClassifier(n_neighbors=k)\n",
        "  neigh.fit(np.array(data_training), np.array(y_train))\n",
        "  #score.append(neigh.score(np.array(data_testing), np.array(y_test)))\n",
        "  tmp_test = neigh.predict(np.array(data_testing))\n",
        "  for i in range(len(tmp_test)):\n",
        "    if(tmp_test[i]==y_test[i]):\n",
        "      if(tmp_test[0]=='h'):\n",
        "        fn+=1\n",
        "      else:\n",
        "        tp+=1\n",
        "    else:\n",
        "      if(tmp_test[0]=='h'):\n",
        "        fp+=1\n",
        "      else:\n",
        "        tn+=1\n",
        "  pre = (tp/(tp+tn))\n",
        "  re = (tp/(tp+fp))\n",
        "  score.append((2*re*pre)/(re+pre))"
      ]
    },
    {
      "cell_type": "code",
      "execution_count": 24,
      "id": "s-ULPEz_qkpb",
      "metadata": {
        "colab": {
          "base_uri": "https://localhost:8080/",
          "height": 266
        },
        "id": "s-ULPEz_qkpb",
        "outputId": "54cadea1-6b91-4cc7-8cb1-99b5ac75ae0f"
      },
      "outputs": [
        {
          "output_type": "display_data",
          "data": {
            "text/plain": [
              "<Figure size 432x288 with 1 Axes>"
            ],
            "image/png": "[encoded data removed]"
          },
          "metadata": {
            "needs_background": "light"
          }
        }
      ],
      "source": [
        "# plt.plot([i for i in range(1,31)], score,x, y_cosine, x, y_euclidean, x, y_manhattan)\n",
        "x = [i for i in range(1,31)]\n",
        "plt.plot(x, score, label='Score Sklearn KNN')\n",
        "plt.plot(x,y_euclidean, label='Euclidean')\n",
        "plt.plot(x,y_manhattan,label='Manhattan')\n",
        "plt.plot(x,y_cosine,label='Cosine')\n",
        "plt.show()"
      ]
    },
    {
      "cell_type": "code",
      "source": [
        "plt.plot(x, score, label='Score Sklearn KNN')\n",
        "plt.show()"
      ],
      "metadata": {
        "colab": {
          "base_uri": "https://localhost:8080/",
          "height": 265
        },
        "id": "kAn7GiC2HJsy",
        "outputId": "1760ca94-0baf-4fdd-9831-7016ab614694"
      },
      "id": "kAn7GiC2HJsy",
      "execution_count": 25,
      "outputs": [
        {
          "output_type": "display_data",
          "data": {
            "text/plain": [
              "<Figure size 432x288 with 1 Axes>"
            ],
            "image/png": "[encoded data removed]"
          },
          "metadata": {
            "needs_background": "light"
          }
        }
      ]
    },
    {
      "cell_type": "markdown",
      "id": "7d22aa47",
      "metadata": {
        "id": "7d22aa47"
      },
      "source": [
        "***Compare both the models result.***"
      ]
    },
    {
      "cell_type": "markdown",
      "id": "64987575",
      "metadata": {
        "id": "64987575"
      },
      "source": [
        "*** What is the time complexity of training using KNN classifier? ***"
      ]
    },
    {
      "cell_type": "markdown",
      "id": "2770c106",
      "metadata": {
        "id": "2770c106"
      },
      "source": [
        ""
      ]
    },
    {
      "cell_type": "markdown",
      "id": "fad1f345",
      "metadata": {
        "id": "fad1f345"
      },
      "source": [
        "***What is the time complexity while testing? Is KNN a linear classifier or can it learn any boundary?***"
      ]
    },
    {
      "cell_type": "raw",
      "id": "0daaa324",
      "metadata": {
        "id": "0daaa324"
      },
      "source": [
        ""
      ]
    }
  ],
  "metadata": {
    "colab": {
      "collapsed_sections": [],
      "name": "2019101109_Assignment1_Question3.ipynb",
      "provenance": []
    },
    "kernelspec": {
      "display_name": "Python 3",
      "language": "python",
      "name": "python3"
    },
    "language_info": {
      "codemirror_mode": {
        "name": "ipython",
        "version": 3
      },
      "file_extension": ".py",
      "mimetype": "text/x-python",
      "name": "python",
      "nbconvert_exporter": "python",
      "pygments_lexer": "ipython3",
      "version": "3.8.10"
    },
    "accelerator": "GPU"
  },
  "nbformat": 4,
  "nbformat_minor": 5
}